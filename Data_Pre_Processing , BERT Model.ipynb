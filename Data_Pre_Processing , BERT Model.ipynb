{
 "cells": [
  {
   "cell_type": "code",
   "execution_count": 127,
   "id": "2f705a2b",
   "metadata": {
    "id": "2f705a2b"
   },
   "outputs": [],
   "source": [
    "from urllib.parse import urlencode\n",
    "import pandas as pd\n",
    "import seaborn as sb\n",
    "import os\n",
    "import regex as re\n",
    "import spacy\n",
    "import numpy as np\n",
    "import seaborn as sb\n",
    "import numpy as np\n",
    "import matplotlib.pyplot as plt"
   ]
  },
  {
   "cell_type": "code",
   "execution_count": 129,
   "id": "29258c05",
   "metadata": {
    "id": "29258c05"
   },
   "outputs": [],
   "source": [
    "# store data in file\n",
    "def write_list_to_file(data_list, file_path):\n",
    "    with open(file_path, 'w', encoding='utf-8') as file:\n",
    "        for item in data_list:\n",
    "            file.write(item + '\\n\\n')\n"
   ]
  },
  {
   "cell_type": "code",
   "execution_count": 130,
   "id": "63c28a45",
   "metadata": {
    "id": "63c28a45"
   },
   "outputs": [],
   "source": [
    "# Retreive data from file\n",
    "def read_file_to_list(file_path):\n",
    "    with open(file_path, 'r', encoding='utf-8') as file:\n",
    "        data_list = []\n",
    "        current_text = \"\"\n",
    "\n",
    "        for line in file:\n",
    "            if line.strip():\n",
    "                current_text += line\n",
    "            else:\n",
    "                if current_text:\n",
    "                    data_list.append(current_text.strip())\n",
    "                    current_text = \"\"\n",
    "\n",
    "        if current_text:\n",
    "            data_list.append(current_text.strip())\n",
    "    return data_list"
   ]
  },
  {
   "cell_type": "code",
   "execution_count": 131,
   "id": "25070230",
   "metadata": {
    "colab": {
     "base_uri": "https://localhost:8080/",
     "height": 70
    },
    "id": "25070230",
    "outputId": "f753ac8d-5751-43ce-f55e-75d06923b8d4"
   },
   "outputs": [
    {
     "data": {
      "application/vnd.google.colaboratory.intrinsic+json": {
       "type": "string"
      },
      "text/plain": [
       "'About the job CFB Bots is a leading technology service provider in the fast-growing field of Intelligent Automation. We provide business process automation and digitalisation solutions powered by hyperautomation technologies including Artificial Intelligence (AI) and Robotic Process Automation (RPA).We partner with large enterprises in their Digital Transformation journey and help them and their employees thrive in the Future of Work. We help our customers unleash the full potential of their hum'"
      ]
     },
     "execution_count": 131,
     "metadata": {},
     "output_type": "execute_result"
    }
   ],
   "source": [
    "Requirements_data_set=read_file_to_list(\"/content/drive/MyDrive/Requirements.txt\")\n",
    "\n",
    "for i in range(len(Requirements_data_set)):\n",
    "    text=Requirements_data_set[i]\n",
    "    text=re.sub(r\"\\s+\",\" \",text)\n",
    "    Requirements_data_set[i]=text\n",
    "\n",
    "Requirements_data_set[40][:500]"
   ]
  },
  {
   "cell_type": "code",
   "execution_count": 132,
   "id": "d5fd623f",
   "metadata": {
    "id": "d5fd623f"
   },
   "outputs": [],
   "source": [
    "Resume_data_set=read_file_to_list(\"/content/drive/MyDrive/Resumes.txt\")+read_file_to_list(\"/content/drive/MyDrive/university_resume.txt\")+read_file_to_list(\"/content/drive/MyDrive/API_Resumes.txt\")"
   ]
  },
  {
   "cell_type": "code",
   "execution_count": 133,
   "id": "6466ba01",
   "metadata": {
    "colab": {
     "base_uri": "https://localhost:8080/",
     "height": 70
    },
    "id": "6466ba01",
    "outputId": "d050c0e4-9fa4-4269-e354-070734aab408"
   },
   "outputs": [
    {
     "data": {
      "application/vnd.google.colaboratory.intrinsic+json": {
       "type": "string"
      },
      "text/plain": [
       "'Resume HeadlineFront-End Developer | MERN | React Developer | Javascript Developer | Node.Js | MongoDB | HTML5 | CSS3 | Bootstrap | Express | API Integration | Software DeveloperSkill Set :              HMTL5, CSS3, JAVASCRIPT, MongoDB, Node.js, Bootstrap, Express.js, Api Integeration, Software Developer, Redux , ContextAPI , React.js,  Express-Validator          Prefered Job Type : :              Full-Time, Part-Time, Remote          Employement DetailsFrontend Developer Argus System Nov 2021 -'"
      ]
     },
     "execution_count": 133,
     "metadata": {},
     "output_type": "execute_result"
    }
   ],
   "source": [
    "Resume_data_set[0][:500]"
   ]
  },
  {
   "cell_type": "code",
   "execution_count": 134,
   "id": "cf89831b",
   "metadata": {
    "id": "cf89831b"
   },
   "outputs": [],
   "source": [
    "# Remove Extra Spaces\n",
    "for i in range(len(Resume_data_set)):\n",
    "    text=Resume_data_set[i]\n",
    "\n",
    "    text=text.replace(\"|\",\"\")\n",
    "    text=re.sub(r\"\\s+\",\" \",text)\n",
    "\n",
    "\n",
    "    Resume_data_set[i]=text"
   ]
  },
  {
   "cell_type": "code",
   "execution_count": 135,
   "id": "2a1175f4",
   "metadata": {
    "colab": {
     "base_uri": "https://localhost:8080/",
     "height": 70
    },
    "id": "2a1175f4",
    "outputId": "4f666bd1-0249-49ae-90e0-05da7089c3a4"
   },
   "outputs": [
    {
     "data": {
      "application/vnd.google.colaboratory.intrinsic+json": {
       "type": "string"
      },
      "text/plain": [
       "'Resume HeadlineFront-End Developer MERN React Developer Javascript Developer Node.Js MongoDB HTML5 CSS3 Bootstrap Express API Integration Software DeveloperSkill Set : HMTL5, CSS3, JAVASCRIPT, MongoDB, Node.js, Bootstrap, Express.js, Api Integeration, Software Developer, Redux , ContextAPI , React.js, Express-Validator Prefered Job Type : : Full-Time, Part-Time, Remote Employement DetailsFrontend Developer Argus System Nov 2021 - Present • Collaborated with cross-functional teams to design, deve'"
      ]
     },
     "execution_count": 135,
     "metadata": {},
     "output_type": "execute_result"
    }
   ],
   "source": [
    "Resume_data_set[0][:500]"
   ]
  },
  {
   "cell_type": "code",
   "execution_count": 136,
   "id": "d61bb392",
   "metadata": {
    "id": "d61bb392"
   },
   "outputs": [],
   "source": [
    "# Apply Regular Expressions to remove unwanted data\n",
    "\n",
    "patterns = ['\\d{11}','\\d{4}-\\d{7}', '[a-z0-9]*@gmail.com','linkedin.com[\\/ a-z-0-9A-Z]*','Resume','resume','Resume Headline','github.com[\\/ a-z-0-9:.A-Z]*','Pakistan','Lahore','india','India','INDIA']\n",
    "combined_pattern = '|'.join(patterns)\n",
    "pattern=re.compile(combined_pattern)\n",
    "\n",
    "for i in range(len(Resume_data_set)):\n",
    "    Resume_data_set[i] = pattern.sub('',Resume_data_set[i])"
   ]
  },
  {
   "cell_type": "code",
   "execution_count": 137,
   "id": "7e4a5391",
   "metadata": {
    "id": "7e4a5391"
   },
   "outputs": [],
   "source": [
    "Model=spacy.load(\"en_core_web_sm\")"
   ]
  },
  {
   "cell_type": "code",
   "execution_count": 138,
   "id": "3b08e1d4",
   "metadata": {
    "id": "3b08e1d4"
   },
   "outputs": [],
   "source": [
    "def Processing(List):\n",
    "    for i in range(len(List)):\n",
    "        doc=Model(List[i])\n",
    "        concat_tokens=list()\n",
    "        for token in doc:\n",
    "            if(token.is_alpha and not(token.is_punct) and not(token.is_stop)):\n",
    "                concat_tokens.append(token.lemma_)\n",
    "        text=' '.join(concat_tokens)\n",
    "        text=text.lower()\n",
    "        List[i]=text\n",
    "    return List"
   ]
  },
  {
   "cell_type": "code",
   "execution_count": 139,
   "id": "950dd8f6",
   "metadata": {
    "colab": {
     "base_uri": "https://localhost:8080/",
     "height": 122
    },
    "id": "950dd8f6",
    "outputId": "911ca458-a75f-41ab-936b-c4e275021764"
   },
   "outputs": [
    {
     "data": {
      "application/vnd.google.colaboratory.intrinsic+json": {
       "type": "string"
      },
      "text/plain": [
       "' HeadlineFront-End Developer MERN React Developer Javascript Developer Node.Js MongoDB HTML5 CSS3 Bootstrap Express API Integration Software DeveloperSkill Set : HMTL5, CSS3, JAVASCRIPT, MongoDB, Node.js, Bootstrap, Express.js, Api Integeration, Software Developer, Redux , ContextAPI , React.js, Express-Validator Prefered Job Type : : Full-Time, Part-Time, Remote Employement DetailsFrontend Developer Argus System Nov 2021 - Present • Collaborated with cross-functional teams to design, develop, and deploy responsive web applications using HTML, CSS, and JavaScript.• Utilized ReactJS to create interactive user interfaces, resulting in improved user experience and increased user engagement.• Implemented modern design principles and coding standards to ensure consistent and visually appealing websites.• Worked closely with UI/UX designers to translate wireframes and mockups into functional web components.• Collaborated with backend developers to integrate front-end interfaces with server-side functionalities.• Collaborated with cross-functional teams to design, develop, and deploy responsive web applications using HTML, CSS, and JavaScript. • Utilized ReactJS to create interactive user interfaces, resulting in improved user experience and increased user engagement. • Implemented modern design principles and coding standards to ensure consistent and visually appealing websites. • Worked closely with UI/UX designers to translate wireframes and mockups into functional web components. • Collaborated with backend developers to integrate front-end interfaces with server-side functionalities.Skills: Express.js · Express-Validator · MongoDB · Postman API · thunderclient · Material UI · HTML5 · CSS3 · Redux · ContextAPI · Bootstrap · React.js · JavaScript · Node.jsSalary : 30000 Monthly Notice Period : 15 Days or Less Web Developer PepCoding May 2021 - Oct 2021 • During my internship as a web developer, I had the opportunity to work extensively with React for building user interfaces.• I collaborated with a team of experienced developers to create dynamic and responsive web applications.• I was responsible for implementing various components using React, ensuring smooth navigation and an intuitive user experience.• I integrated APIs to fetch real-time data and used React\\'s state management to handle dynamic content updates.• Through this project, I gained a deep understanding of React\\'s component-based architecture and how to efficiently manage application state. Diploma in Data Structures, Algorithms, Databases, OOPs and System Design Web Development From Pepcoding Education Private Limited Passout Year : 2020 Course Type : Full Time Percentage/Grade : 60 % Marks of 100 Maximum Profile Summary :-\"Extensively obtained 1.5+ years of IT experience as a Front-End Developer\".:-\"Well-experienced with UI/UX, Usability, Visual Design, Users, Customers, Communication, Relationship, and Business Value\".:-\"Experience as a User Interface/Front End Developer in developing applications using HTML5,CSS3, JavaScript, ReactJS, mongoDB, Node.JS, Express, Express-validator, bcrypts.js, DOM, LESS\".:-\"Use React-Router-DOM to turn application into Single Page Application & worked in using React JS components, Forms, Events, Keys, Router, Animations and Redux concept\".:-\"Create dynamic web pages using ReactJS framework. Worked on two-way, one-way data binding, built-in components and developed single page applications using React JS\".:-\"Proficient in building Web User Interface (UI) using HTML5, CSS3 and JavaScript and MVC frameworks - ReactJS and Redux\".'"
      ]
     },
     "execution_count": 139,
     "metadata": {},
     "output_type": "execute_result"
    }
   ],
   "source": [
    "Resume_data_set[0]"
   ]
  },
  {
   "cell_type": "code",
   "execution_count": 140,
   "id": "b8886e8c",
   "metadata": {
    "id": "b8886e8c"
   },
   "outputs": [],
   "source": [
    "Resume_data_set=Processing(Resume_data_set)"
   ]
  },
  {
   "cell_type": "code",
   "execution_count": 141,
   "id": "bfa1cc85",
   "metadata": {
    "colab": {
     "base_uri": "https://localhost:8080/",
     "height": 122
    },
    "id": "bfa1cc85",
    "outputId": "5fd7ef2d-0f8d-4787-c9a9-4066c4ac61dc"
   },
   "outputs": [
    {
     "data": {
      "application/vnd.google.colaboratory.intrinsic+json": {
       "type": "string"
      },
      "text/plain": [
       "'headlinefront end developer mern react developer javascript developer node js mongodb bootstrap express api integration software developerskill set javascript mongodb bootstrap api integeration software developer redux contextapi express validator prefer job type time time remote employement detailsfrontend developer argus system nov present collaborate cross functional team design develop deploy responsive web application html css utilize reactjs create interactive user interface result improved user experience increase user implement modern design principle code standard ensure consistent visually appeal work closely ui ux designer translate wireframe mockup functional web collaborate backend developer integrate end interface server collaborate cross functional team design develop deploy responsive web application html css javascript utilize reactjs create interactive user interface result improved user experience increase user engagement implement modern design principle code standard ensure consistent visually appeal website work closely ui ux designer translate wireframe mockup functional web component collaborate backend developer integrate end interface server functionality skill express validator mongodb postman api thunderclient material ui redux contextapi bootstrap javascript monthly notice period day web developer pepcoding oct internship web developer opportunity work extensively react build user collaborate team experienced developer create dynamic responsive web responsible implement component react ensure smooth navigation intuitive user integrate api fetch real time datum react state management handle dynamic content project gain deep understanding react component base architecture efficiently manage application state diploma data structures algorithms databases oop system design web development pepcode education private limited passout year course type time percentage grade mark maximum profile summary obtain year experience end experience ui ux usability visual design users customers communication relationship business user interface end developer develop application javascript reactjs mongodb node js express express validator dom react router dom turn application single page application work react js component forms event keys router animations redux dynamic web page reactjs framework work way way datum bind build component develop single page application react build web user interface ui javascript mvc framework reactjs redux'"
      ]
     },
     "execution_count": 141,
     "metadata": {},
     "output_type": "execute_result"
    }
   ],
   "source": [
    "Resume_data_set[0]"
   ]
  },
  {
   "cell_type": "code",
   "execution_count": 142,
   "id": "dc0fcbff",
   "metadata": {
    "colab": {
     "base_uri": "https://localhost:8080/",
     "height": 122
    },
    "id": "dc0fcbff",
    "outputId": "30324028-ca3a-4d3f-cbbf-d6a9404208fa"
   },
   "outputs": [
    {
     "data": {
      "application/vnd.google.colaboratory.intrinsic+json": {
       "type": "string"
      },
      "text/plain": [
       "\"About the job CFB Bots is a leading technology service provider in the fast-growing field of Intelligent Automation. We provide business process automation and digitalisation solutions powered by hyperautomation technologies including Artificial Intelligence (AI) and Robotic Process Automation (RPA).We partner with large enterprises in their Digital Transformation journey and help them and their employees thrive in the Future of Work. We help our customers unleash the full potential of their human workforce.Our mission is to co-create the Digital Workforce of the Future, and our vision is to make work enjoyable.The RoleWe are looking for like-minded enthusiast to join us as Power Platform Developer. You will play a key role in helping customers to unleash the full potential of human workforce and drive productivity through the building and implementation of innovative solutions.In return, you will achieve a high sense of job satisfaction and gain appreciation/recognition as you implement solutions that help liberate users from tedium. You will also have the chance to meet many people across different functions, organizations and industries, as well as to gain exposure to various businesses and their unique challenges. Finally, you will enjoy strong personal growth that will boost your career as you constantly develop and learn new solutions.Your Responsibilities Will Include Design and develop applications using the Microsoft Power Platform, including Power Apps, Power Automate, Power BI and Power Virtual AgentsLiaise directly with the customers to understand business requirements and challengesOutline solutions that address the customers’ pain points and optimizes business processesWork with all stakeholders to explore and implement best-in-class solutionsMaintain documentation of functional/solution specifications/codes according to best practicesConfigure and customize on standard workflows, dashboards, forms, views and develop standard or custom reportsUse multiple Out-of-The-Box connectors with Power Apps, Power Automate and preferably create custom connectorsCreate analytics using Power Query and DAX in Power BIDesign and create database modelsExercise creative problem-solving skills when performing end-to-end testing, troubleshooting and end-user supportProvide subject matter expertise around Power Platform and Center of Excellence tool kitsProvide training on Power Platform development and best practicesAssume additional responsibilities as and when assignedIdeal Profile Degree/Polytechnic Diploma in Computer Science or equivalent qualificationAt least 2 to 3 years of experience in developing and deploying solutions with Power PlatformA deep understanding of the capabilities of Microsoft Power Platform, including Power BI, Power Apps, Power Automate, Power Virtual Agents)Relevant Microsoft Power Platform certifications is an added advantageDevelopment skills on Office365 services SharePoint, MSSQL and Azure ServicesAbility to produce complex reports using Power BI and integrate Power BI reports and dashboards into PowerAppsKnowledge of using API custom-connectors within PowerAppsWorking experience with relational databases MS SQLExperience and certifications (e.g. PL-100, PL-200, PL-400, PL-500 and PL-600) in the Microsoft stack is highly desirableExperience in all phases of Software Development Life Cycle (SDLC) which includes gathering and analyzing business requirements, functional/technical specifications, designing, developing, testing, deploying the applications and providing production supportDesire to learn and adapt to new technologiesAbility to work independently and effectively in a teamStrong attention to detail, analytical and enjoy solving problemsExcellent communication skills and project management skillsAbility to work remotely to meet the work requirements of a fast-paced environmentWhat's on Offer? Recognition and rewardsCareer development and progressionWork flexibility and employee wellbeing\""
      ]
     },
     "execution_count": 142,
     "metadata": {},
     "output_type": "execute_result"
    }
   ],
   "source": [
    "Requirements_data_set[40]"
   ]
  },
  {
   "cell_type": "code",
   "execution_count": 143,
   "id": "8405d0fd",
   "metadata": {
    "id": "8405d0fd"
   },
   "outputs": [],
   "source": [
    "Requirements_data_set=Processing(Requirements_data_set)"
   ]
  },
  {
   "cell_type": "code",
   "execution_count": 144,
   "id": "f95db32d",
   "metadata": {
    "colab": {
     "base_uri": "https://localhost:8080/",
     "height": 122
    },
    "id": "f95db32d",
    "outputId": "3ebe8085-5643-41eb-8e83-51e3cd913f3d"
   },
   "outputs": [
    {
     "data": {
      "application/vnd.google.colaboratory.intrinsic+json": {
       "type": "string"
      },
      "text/plain": [
       "'job cfb bots lead technology service provider fast grow field intelligent automation provide business process automation digitalisation solution power hyperautomation technology include artificial intelligence ai robotic process automation partner large enterprise digital transformation journey help employee thrive future work help customer unleash potential human workforce mission co create digital workforce future vision work enjoyable rolewe look like minded enthusiast join power platform developer play key role help customer unleash potential human workforce drive productivity building implementation innovative solution return achieve high sense job satisfaction gain appreciation recognition implement solution help liberate user tedium chance meet people different function organization industry gain exposure business unique challenge finally enjoy strong personal growth boost career constantly develop learn new solution responsibility include design develop application microsoft power platform include power apps power automate power bi power virtual agentsliaise directly customer understand business requirement challengesoutline solution address customer pain point optimize business processeswork stakeholder explore implement well class solutionsmaintain documentation functional solution specification code accord good practicesconfigure customize standard workflow dashboard form view develop standard custom reportsuse multiple box connector power apps power automate preferably create custom connectorscreate analytic power query dax power bidesign create database modelsexercise creative problem solve skill perform end end testing troubleshooting end user supportprovide subject matter expertise power platform center excellence tool kitsprovide training power platform development good practicesassume additional responsibility assignedideal profile degree polytechnic diploma computer science equivalent qualificationat year experience develop deploy solution power platforma deep understanding capability microsoft power platform include power bi power apps power automate power virtual microsoft power platform certification add advantagedevelopment skill service sharepoint mssql azure servicesability produce complex report power bi integrate power bi report dashboard powerappsknowledge api custom connector powerappsworking experience relational database ms sqlexperience certification microsoft stack highly desirableexperience phase software development life cycle sdlc include gather analyze business requirement functional technical specification designing develop testing deploy application provide production supportdesire learn adapt new technologiesability work independently effectively teamstrong attention detail analytical enjoy solve problemsexcellent communication skill project management skillsability work remotely meet work requirement fast pace environmentwhat offer recognition rewardscareer development progressionwork flexibility employee wellbee'"
      ]
     },
     "execution_count": 144,
     "metadata": {},
     "output_type": "execute_result"
    }
   ],
   "source": [
    "Requirements_data_set[40]"
   ]
  },
  {
   "cell_type": "code",
   "execution_count": 145,
   "id": "875917ba",
   "metadata": {
    "colab": {
     "base_uri": "https://localhost:8080/"
    },
    "id": "875917ba",
    "outputId": "fd86e8ca-b777-494e-9ee2-49ba44fe9b1a"
   },
   "outputs": [
    {
     "name": "stdout",
     "output_type": "stream",
     "text": [
      "515\n",
      "139\n"
     ]
    }
   ],
   "source": [
    "print(len(Resume_data_set))\n",
    "print(len(Requirements_data_set))"
   ]
  },
  {
   "cell_type": "code",
   "execution_count": 146,
   "id": "0d1eb16a",
   "metadata": {
    "id": "0d1eb16a"
   },
   "outputs": [],
   "source": [
    "# write_list_to_file(Resume_data_set, \"preprocess_resume.txt\")\n",
    "# write_list_to_file(Requirements_data_set, \"preprocess_requirement.txt\")"
   ]
  },
  {
   "cell_type": "code",
   "execution_count": 147,
   "id": "d3a2c2e1",
   "metadata": {
    "colab": {
     "base_uri": "https://localhost:8080/",
     "height": 564
    },
    "id": "d3a2c2e1",
    "outputId": "6b74a55f-cf76-4c52-87a2-816b04aee015"
   },
   "outputs": [
    {
     "data": {
      "image/png": "[encoded data removed]",
      "text/plain": [
       "<Figure size 400x600 with 1 Axes>"
      ]
     },
     "metadata": {},
     "output_type": "display_data"
    }
   ],
   "source": [
    "import matplotlib.pyplot as plt\n",
    "\n",
    "# Data\n",
    "categories = [0, 1]\n",
    "counts = [len(Resume_data_set), len(Requirements_data_set)]\n",
    "\n",
    "# Brighter colors\n",
    "colors = ['#1f77b4', '#2ca02c']  # Blue and green\n",
    "\n",
    "# Plot\n",
    "plt.figure(figsize=(4, 6))\n",
    "plt.bar(categories, counts, color=colors)\n",
    "plt.xlabel('Categories')\n",
    "plt.ylabel('Counts')\n",
    "plt.title('Counts of Resumes and Requirements')\n",
    "plt.xticks(categories, ['Resumes', 'Requirements'])\n",
    "plt.show()\n"
   ]
  },
  {
   "cell_type": "markdown",
   "id": "1e8c8884",
   "metadata": {
    "id": "1e8c8884"
   },
   "source": [
    "# BERT Model"
   ]
  },
  {
   "cell_type": "code",
   "execution_count": 1,
   "id": "76662537",
   "metadata": {
    "colab": {
     "base_uri": "https://localhost:8080/"
    },
    "id": "76662537",
    "outputId": "435bd1f3-dd81-4c62-8dfa-24759dab370d"
   },
   "outputs": [],
   "source": [
    "import tensorflow as tf\n",
    "from transformers import BertTokenizer, TFBertModel\n",
    "import numpy as np\n",
    "# Load pre-trained BERT model and tokenizer\n",
    "model_name = 'google-bert/bert-base-uncased'  # You can choose a different pre-trained model\n",
    "tokenizer = BertTokenizer.from_pretrained(model_name)\n",
    "model = TFBertModel.from_pretrained(model_name)\n",
    "\n",
    "def Embeddings_generator(data_sample):\n",
    "    embeddings=list()\n",
    "    for sample in data_sample:\n",
    "        # Tokenize input text\n",
    "        input_ids = tokenizer.encode(sample, add_special_tokens=True, return_tensors=\"tf\", max_length=512, truncation=True)\n",
    "\n",
    "        # Feed input tokens to BERT model\n",
    "        outputs = model(input_ids)\n",
    "\n",
    "        # Get hidden states from the output\n",
    "        hidden_states = outputs.last_hidden_state\n",
    "\n",
    "        # Extract embeddings from the final layer\n",
    "        embedding = tf.reduce_mean(hidden_states, axis=1)\n",
    "\n",
    "        embeddings.append(embedding[0])\n",
    "    return embeddings"
   ]
  },
  {
   "cell_type": "code",
   "execution_count": 161,
   "id": "5be14613",
   "metadata": {
    "id": "5be14613"
   },
   "outputs": [],
   "source": [
    "resume_embeddings=Embeddings_generator(Resume_data_set)\n",
    "Requirements_embeddings=Embeddings_generator(Requirements_data_set)"
   ]
  },
  {
   "cell_type": "code",
   "execution_count": 22,
   "id": "eedfe70c",
   "metadata": {
    "colab": {
     "base_uri": "https://localhost:8080/"
    },
    "id": "eedfe70c",
    "outputId": "25190d5d-aa3f-4be5-f077-bd628e0c94b1"
   },
   "outputs": [
    {
     "data": {
      "text/plain": [
       "tensorflow.python.framework.ops.EagerTensor"
      ]
     },
     "execution_count": 22,
     "metadata": {},
     "output_type": "execute_result"
    }
   ],
   "source": [
    "type(resume_embeddings[0])"
   ]
  },
  {
   "cell_type": "code",
   "execution_count": 162,
   "id": "2aa8138a",
   "metadata": {
    "id": "2aa8138a"
   },
   "outputs": [],
   "source": [
    "from sklearn.metrics.pairwise import cosine_similarity\n",
    "\n",
    "# Convert resume_embeddings and Requirements_embeddings to numpy arrays\n",
    "resume_embeddings_np = np.array(resume_embeddings)\n",
    "Requirements_embeddings_np = np.array(Requirements_embeddings)\n",
    "\n",
    "similarity = []\n",
    "\n",
    "# Calculate cosine similarity\n",
    "for i, resume_emb in enumerate(resume_embeddings_np):\n",
    "    for j, requirement_emb in enumerate(Requirements_embeddings_np):\n",
    "        if len(resume_emb.shape) == 1:\n",
    "            resume_emb = resume_emb.reshape(1, -1)\n",
    "        if len(requirement_emb.shape) == 1:\n",
    "            requirement_emb = requirement_emb.reshape(1, -1)\n",
    "\n",
    "        similarity_score = cosine_similarity(resume_emb, requirement_emb)[0][0]\n",
    "        similarity.append((i, j, similarity_score))\n"
   ]
  },
  {
   "cell_type": "code",
   "execution_count": 195,
   "id": "a49b271d",
   "metadata": {
    "id": "a49b271d"
   },
   "outputs": [],
   "source": [
    "#Make data Frame\n",
    "Resume_list=list()\n",
    "Requirement_list=list()\n",
    "label=list()\n",
    "\n",
    "label_index=0\n",
    "for sample in similarity:\n",
    "    if(sample[2]>0.88): #0.88 is threshold \n",
    "        Resume_list.append(resume_embeddings[sample[0]])\n",
    "        Requirement_list.append(Requirements_embeddings[sample[1]])\n",
    "        label.append(1)\n",
    "    else:\n",
    "        Resume_list.append(resume_embeddings[sample[0]])\n",
    "        Requirement_list.append(Requirements_embeddings[sample[1]])\n",
    "        label.append(0)\n",
    "    label_index+=1"
   ]
  },
  {
   "cell_type": "code",
   "execution_count": 197,
   "id": "89812f5c",
   "metadata": {
    "colab": {
     "base_uri": "https://localhost:8080/"
    },
    "id": "89812f5c",
    "outputId": "a0de23c0-1fce-42c1-ffa9-6447cf24587a"
   },
   "outputs": [
    {
     "data": {
      "text/plain": [
       "tensorflow.python.framework.ops.EagerTensor"
      ]
     },
     "execution_count": 197,
     "metadata": {},
     "output_type": "execute_result"
    }
   ],
   "source": [
    "type(Resume_list[0])"
   ]
  },
  {
   "cell_type": "code",
   "execution_count": 198,
   "id": "26d9af84",
   "metadata": {
    "id": "26d9af84"
   },
   "outputs": [],
   "source": [
    "Final_data_set=pd.DataFrame({\"Resume\":Resume_list,\"Requirement\":Requirement_list,\"Label\":label})"
   ]
  },
  {
   "cell_type": "code",
   "execution_count": 199,
   "id": "d740b0ca",
   "metadata": {
    "colab": {
     "base_uri": "https://localhost:8080/",
     "height": 206
    },
    "id": "d740b0ca",
    "outputId": "5c17fd2b-60f4-4a77-fd2e-b13f1da04d85"
   },
   "outputs": [
    {
     "data": {
      "application/vnd.google.colaboratory.intrinsic+json": {
       "summary": "{\n  \"name\": \"Final_data_set\",\n  \"rows\": 71585,\n  \"fields\": [\n    {\n      \"column\": \"Resume\",\n      \"properties\": {\n        \"dtype\": \"object\",\n        \"semantic_type\": \"\",\n        \"description\": \"\"\n      }\n    },\n    {\n      \"column\": \"Requirement\",\n      \"properties\": {\n        \"dtype\": \"object\",\n        \"semantic_type\": \"\",\n        \"description\": \"\"\n      }\n    },\n    {\n      \"column\": \"Label\",\n      \"properties\": {\n        \"dtype\": \"number\",\n        \"std\": 0,\n        \"min\": 0,\n        \"max\": 1,\n        \"num_unique_values\": 2,\n        \"samples\": [\n          1,\n          0\n        ],\n        \"semantic_type\": \"\",\n        \"description\": \"\"\n      }\n    }\n  ]\n}",
       "type": "dataframe",
       "variable_name": "Final_data_set"
      },
      "text/html": [
       "\n",
       "  <div id=\"df-01346d87-b61e-46b7-bd95-7a9936692107\" class=\"colab-df-container\">\n",
       "    <div>\n",
       "<style scoped>\n",
       "    .dataframe tbody tr th:only-of-type {\n",
       "        vertical-align: middle;\n",
       "    }\n",
       "\n",
       "    .dataframe tbody tr th {\n",
       "        vertical-align: top;\n",
       "    }\n",
       "\n",
       "    .dataframe thead th {\n",
       "        text-align: right;\n",
       "    }\n",
       "</style>\n",
       "<table border=\"1\" class=\"dataframe\">\n",
       "  <thead>\n",
       "    <tr style=\"text-align: right;\">\n",
       "      <th></th>\n",
       "      <th>Resume</th>\n",
       "      <th>Requirement</th>\n",
       "      <th>Label</th>\n",
       "    </tr>\n",
       "  </thead>\n",
       "  <tbody>\n",
       "    <tr>\n",
       "      <th>0</th>\n",
       "      <td>(tf.Tensor(-0.024618303, shape=(), dtype=float...</td>\n",
       "      <td>(tf.Tensor(-0.11915118, shape=(), dtype=float3...</td>\n",
       "      <td>0</td>\n",
       "    </tr>\n",
       "    <tr>\n",
       "      <th>1</th>\n",
       "      <td>(tf.Tensor(-0.024618303, shape=(), dtype=float...</td>\n",
       "      <td>(tf.Tensor(-0.08140805, shape=(), dtype=float3...</td>\n",
       "      <td>0</td>\n",
       "    </tr>\n",
       "    <tr>\n",
       "      <th>2</th>\n",
       "      <td>(tf.Tensor(-0.024618303, shape=(), dtype=float...</td>\n",
       "      <td>(tf.Tensor(-0.10824052, shape=(), dtype=float3...</td>\n",
       "      <td>1</td>\n",
       "    </tr>\n",
       "    <tr>\n",
       "      <th>3</th>\n",
       "      <td>(tf.Tensor(-0.024618303, shape=(), dtype=float...</td>\n",
       "      <td>(tf.Tensor(-0.04756498, shape=(), dtype=float3...</td>\n",
       "      <td>0</td>\n",
       "    </tr>\n",
       "    <tr>\n",
       "      <th>4</th>\n",
       "      <td>(tf.Tensor(-0.024618303, shape=(), dtype=float...</td>\n",
       "      <td>(tf.Tensor(-0.2157805, shape=(), dtype=float32...</td>\n",
       "      <td>1</td>\n",
       "    </tr>\n",
       "  </tbody>\n",
       "</table>\n",
       "</div>\n",
       "    <div class=\"colab-df-buttons\">\n",
       "\n",
       "  <div class=\"colab-df-container\">\n",
       "    <button class=\"colab-df-convert\" onclick=\"convertToInteractive('df-01346d87-b61e-46b7-bd95-7a9936692107')\"\n",
       "            title=\"Convert this dataframe to an interactive table.\"\n",
       "            style=\"display:none;\">\n",
       "\n",
       "  <svg xmlns=\"http://www.w3.org/2000/svg\" height=\"24px\" viewBox=\"0 -960 960 960\">\n",
       "    <path d=\"M120-120v-720h720v720H120Zm60-500h600v-160H180v160Zm220 220h160v-160H400v160Zm0 220h160v-160H400v160ZM180-400h160v-160H180v160Zm440 0h160v-160H620v160ZM180-180h160v-160H180v160Zm440 0h160v-160H620v160Z\"/>\n",
       "  </svg>\n",
       "    </button>\n",
       "\n",
       "  <style>\n",
       "    .colab-df-container {\n",
       "      display:flex;\n",
       "      gap: 12px;\n",
       "    }\n",
       "\n",
       "    .colab-df-convert {\n",
       "      background-color: #E8F0FE;\n",
       "      border: none;\n",
       "      border-radius: 50%;\n",
       "      cursor: pointer;\n",
       "      display: none;\n",
       "      fill: #1967D2;\n",
       "      height: 32px;\n",
       "      padding: 0 0 0 0;\n",
       "      width: 32px;\n",
       "    }\n",
       "\n",
       "    .colab-df-convert:hover {\n",
       "      background-color: #E2EBFA;\n",
       "      box-shadow: 0px 1px 2px rgba(60, 64, 67, 0.3), 0px 1px 3px 1px rgba(60, 64, 67, 0.15);\n",
       "      fill: #174EA6;\n",
       "    }\n",
       "\n",
       "    .colab-df-buttons div {\n",
       "      margin-bottom: 4px;\n",
       "    }\n",
       "\n",
       "    [theme=dark] .colab-df-convert {\n",
       "      background-color: #3B4455;\n",
       "      fill: #D2E3FC;\n",
       "    }\n",
       "\n",
       "    [theme=dark] .colab-df-convert:hover {\n",
       "      background-color: #434B5C;\n",
       "      box-shadow: 0px 1px 3px 1px rgba(0, 0, 0, 0.15);\n",
       "      filter: drop-shadow(0px 1px 2px rgba(0, 0, 0, 0.3));\n",
       "      fill: #FFFFFF;\n",
       "    }\n",
       "  </style>\n",
       "\n",
       "    <script>\n",
       "      const buttonEl =\n",
       "        document.querySelector('#df-01346d87-b61e-46b7-bd95-7a9936692107 button.colab-df-convert');\n",
       "      buttonEl.style.display =\n",
       "        google.colab.kernel.accessAllowed ? 'block' : 'none';\n",
       "\n",
       "      async function convertToInteractive(key) {\n",
       "        const element = document.querySelector('#df-01346d87-b61e-46b7-bd95-7a9936692107');\n",
       "        const dataTable =\n",
       "          await google.colab.kernel.invokeFunction('convertToInteractive',\n",
       "                                                    [key], {});\n",
       "        if (!dataTable) return;\n",
       "\n",
       "        const docLinkHtml = 'Like what you see? Visit the ' +\n",
       "          '<a target=\"_blank\" href=https://colab.research.google.com/notebooks/data_table.ipynb>data table notebook</a>'\n",
       "          + ' to learn more about interactive tables.';\n",
       "        element.innerHTML = '';\n",
       "        dataTable['output_type'] = 'display_data';\n",
       "        await google.colab.output.renderOutput(dataTable, element);\n",
       "        const docLink = document.createElement('div');\n",
       "        docLink.innerHTML = docLinkHtml;\n",
       "        element.appendChild(docLink);\n",
       "      }\n",
       "    </script>\n",
       "  </div>\n",
       "\n",
       "\n",
       "<div id=\"df-3054af15-5c15-49d4-b9da-885c7c2db3b9\">\n",
       "  <button class=\"colab-df-quickchart\" onclick=\"quickchart('df-3054af15-5c15-49d4-b9da-885c7c2db3b9')\"\n",
       "            title=\"Suggest charts\"\n",
       "            style=\"display:none;\">\n",
       "\n",
       "<svg xmlns=\"http://www.w3.org/2000/svg\" height=\"24px\"viewBox=\"0 0 24 24\"\n",
       "     width=\"24px\">\n",
       "    <g>\n",
       "        <path d=\"M19 3H5c-1.1 0-2 .9-2 2v14c0 1.1.9 2 2 2h14c1.1 0 2-.9 2-2V5c0-1.1-.9-2-2-2zM9 17H7v-7h2v7zm4 0h-2V7h2v10zm4 0h-2v-4h2v4z\"/>\n",
       "    </g>\n",
       "</svg>\n",
       "  </button>\n",
       "\n",
       "<style>\n",
       "  .colab-df-quickchart {\n",
       "      --bg-color: #E8F0FE;\n",
       "      --fill-color: #1967D2;\n",
       "      --hover-bg-color: #E2EBFA;\n",
       "      --hover-fill-color: #174EA6;\n",
       "      --disabled-fill-color: #AAA;\n",
       "      --disabled-bg-color: #DDD;\n",
       "  }\n",
       "\n",
       "  [theme=dark] .colab-df-quickchart {\n",
       "      --bg-color: #3B4455;\n",
       "      --fill-color: #D2E3FC;\n",
       "      --hover-bg-color: #434B5C;\n",
       "      --hover-fill-color: #FFFFFF;\n",
       "      --disabled-bg-color: #3B4455;\n",
       "      --disabled-fill-color: #666;\n",
       "  }\n",
       "\n",
       "  .colab-df-quickchart {\n",
       "    background-color: var(--bg-color);\n",
       "    border: none;\n",
       "    border-radius: 50%;\n",
       "    cursor: pointer;\n",
       "    display: none;\n",
       "    fill: var(--fill-color);\n",
       "    height: 32px;\n",
       "    padding: 0;\n",
       "    width: 32px;\n",
       "  }\n",
       "\n",
       "  .colab-df-quickchart:hover {\n",
       "    background-color: var(--hover-bg-color);\n",
       "    box-shadow: 0 1px 2px rgba(60, 64, 67, 0.3), 0 1px 3px 1px rgba(60, 64, 67, 0.15);\n",
       "    fill: var(--button-hover-fill-color);\n",
       "  }\n",
       "\n",
       "  .colab-df-quickchart-complete:disabled,\n",
       "  .colab-df-quickchart-complete:disabled:hover {\n",
       "    background-color: var(--disabled-bg-color);\n",
       "    fill: var(--disabled-fill-color);\n",
       "    box-shadow: none;\n",
       "  }\n",
       "\n",
       "  .colab-df-spinner {\n",
       "    border: 2px solid var(--fill-color);\n",
       "    border-color: transparent;\n",
       "    border-bottom-color: var(--fill-color);\n",
       "    animation:\n",
       "      spin 1s steps(1) infinite;\n",
       "  }\n",
       "\n",
       "  @keyframes spin {\n",
       "    0% {\n",
       "      border-color: transparent;\n",
       "      border-bottom-color: var(--fill-color);\n",
       "      border-left-color: var(--fill-color);\n",
       "    }\n",
       "    20% {\n",
       "      border-color: transparent;\n",
       "      border-left-color: var(--fill-color);\n",
       "      border-top-color: var(--fill-color);\n",
       "    }\n",
       "    30% {\n",
       "      border-color: transparent;\n",
       "      border-left-color: var(--fill-color);\n",
       "      border-top-color: var(--fill-color);\n",
       "      border-right-color: var(--fill-color);\n",
       "    }\n",
       "    40% {\n",
       "      border-color: transparent;\n",
       "      border-right-color: var(--fill-color);\n",
       "      border-top-color: var(--fill-color);\n",
       "    }\n",
       "    60% {\n",
       "      border-color: transparent;\n",
       "      border-right-color: var(--fill-color);\n",
       "    }\n",
       "    80% {\n",
       "      border-color: transparent;\n",
       "      border-right-color: var(--fill-color);\n",
       "      border-bottom-color: var(--fill-color);\n",
       "    }\n",
       "    90% {\n",
       "      border-color: transparent;\n",
       "      border-bottom-color: var(--fill-color);\n",
       "    }\n",
       "  }\n",
       "</style>\n",
       "\n",
       "  <script>\n",
       "    async function quickchart(key) {\n",
       "      const quickchartButtonEl =\n",
       "        document.querySelector('#' + key + ' button');\n",
       "      quickchartButtonEl.disabled = true;  // To prevent multiple clicks.\n",
       "      quickchartButtonEl.classList.add('colab-df-spinner');\n",
       "      try {\n",
       "        const charts = await google.colab.kernel.invokeFunction(\n",
       "            'suggestCharts', [key], {});\n",
       "      } catch (error) {\n",
       "        console.error('Error during call to suggestCharts:', error);\n",
       "      }\n",
       "      quickchartButtonEl.classList.remove('colab-df-spinner');\n",
       "      quickchartButtonEl.classList.add('colab-df-quickchart-complete');\n",
       "    }\n",
       "    (() => {\n",
       "      let quickchartButtonEl =\n",
       "        document.querySelector('#df-3054af15-5c15-49d4-b9da-885c7c2db3b9 button');\n",
       "      quickchartButtonEl.style.display =\n",
       "        google.colab.kernel.accessAllowed ? 'block' : 'none';\n",
       "    })();\n",
       "  </script>\n",
       "</div>\n",
       "    </div>\n",
       "  </div>\n"
      ],
      "text/plain": [
       "                                              Resume  \\\n",
       "0  (tf.Tensor(-0.024618303, shape=(), dtype=float...   \n",
       "1  (tf.Tensor(-0.024618303, shape=(), dtype=float...   \n",
       "2  (tf.Tensor(-0.024618303, shape=(), dtype=float...   \n",
       "3  (tf.Tensor(-0.024618303, shape=(), dtype=float...   \n",
       "4  (tf.Tensor(-0.024618303, shape=(), dtype=float...   \n",
       "\n",
       "                                         Requirement  Label  \n",
       "0  (tf.Tensor(-0.11915118, shape=(), dtype=float3...      0  \n",
       "1  (tf.Tensor(-0.08140805, shape=(), dtype=float3...      0  \n",
       "2  (tf.Tensor(-0.10824052, shape=(), dtype=float3...      1  \n",
       "3  (tf.Tensor(-0.04756498, shape=(), dtype=float3...      0  \n",
       "4  (tf.Tensor(-0.2157805, shape=(), dtype=float32...      1  "
      ]
     },
     "execution_count": 199,
     "metadata": {},
     "output_type": "execute_result"
    }
   ],
   "source": [
    "Final_data_set.head()"
   ]
  },
  {
   "cell_type": "code",
   "execution_count": 200,
   "id": "efc89060",
   "metadata": {
    "colab": {
     "base_uri": "https://localhost:8080/",
     "height": 553
    },
    "id": "efc89060",
    "outputId": "98c04633-dc24-436c-a937-a21dcae40e7a"
   },
   "outputs": [
    {
     "name": "stderr",
     "output_type": "stream",
     "text": [
      "<ipython-input-200-7257d042de81>:7: FutureWarning: \n",
      "\n",
      "Passing `palette` without assigning `hue` is deprecated and will be removed in v0.14.0. Assign the `x` variable to `hue` and set `legend=False` for the same effect.\n",
      "\n",
      "  sb.countplot(x='Label', data=Final_data_set, palette=custom_palette)\n"
     ]
    },
    {
     "data": {
      "text/plain": [
       "<Axes: xlabel='Label', ylabel='count'>"
      ]
     },
     "execution_count": 200,
     "metadata": {},
     "output_type": "execute_result"
    },
    {
     "data": {
      "image/png": "[encoded data removed]",
      "text/plain": [
       "<Figure size 640x480 with 1 Axes>"
      ]
     },
     "metadata": {},
     "output_type": "display_data"
    }
   ],
   "source": [
    "# Define custom colors\n",
    "custom_palette = [\"#FF5573\", \"#33F657\"]\n",
    "\n",
    "sb.countplot(x='Label', data=Final_data_set, palette=custom_palette)"
   ]
  },
  {
   "cell_type": "code",
   "execution_count": 201,
   "id": "80aabe9b",
   "metadata": {
    "colab": {
     "base_uri": "https://localhost:8080/"
    },
    "id": "80aabe9b",
    "outputId": "9537ac3f-50b9-4ce4-e472-2c4fcfbbfcf2"
   },
   "outputs": [
    {
     "name": "stdout",
     "output_type": "stream",
     "text": [
      "label 0 data: 50.11664454843891%\n",
      "label 1 data: 49.88335545156108%\n"
     ]
    }
   ],
   "source": [
    "sample=Final_data_set['Label'].value_counts()\n",
    "elements=Final_data_set['Label'].unique()\n",
    "\n",
    "print(f\"label {elements[0]} data: {sample[0]/len(Final_data_set['Label'])*100}%\")\n",
    "print(f\"label {elements[1]} data: {sample[1]/len(Final_data_set['Label'])*100}%\")"
   ]
  },
  {
   "cell_type": "code",
   "execution_count": 196,
   "id": "5c4ca63f",
   "metadata": {
    "id": "5c4ca63f"
   },
   "outputs": [],
   "source": [
    "Resume_list=np.array(Resume_list)\n",
    "Requirement_list=np.array(Requirement_list)\n",
    "labels=np.array(label)\n",
    "Features=np.concatenate((Resume_list,Requirement_list),axis=1)"
   ]
  },
  {
   "cell_type": "markdown",
   "id": "5675c06d",
   "metadata": {
    "id": "5675c06d"
   },
   "source": [
    "# Model Creation"
   ]
  },
  {
   "cell_type": "code",
   "execution_count": 35,
   "id": "88252743",
   "metadata": {
    "id": "88252743"
   },
   "outputs": [],
   "source": [
    "import tensorflow as tf\n",
    "from tensorflow.keras import layers,Sequential\n",
    "from tensorflow import keras\n",
    "from keras.activations import relu,sigmoid\n",
    "from keras.losses import BinaryCrossentropy\n",
    "from keras.optimizers import Adam\n",
    "from keras.metrics import Accuracy"
   ]
  },
  {
   "cell_type": "code",
   "execution_count": 36,
   "id": "a60c1f58",
   "metadata": {
    "id": "a60c1f58"
   },
   "outputs": [],
   "source": [
    "from sklearn.model_selection import train_test_split\n",
    "X_train,X_test,Y_train,Y_test=train_test_split(Features,labels,test_size=0.3)"
   ]
  },
  {
   "cell_type": "code",
   "execution_count": 81,
   "id": "8ebc23b6",
   "metadata": {
    "id": "8ebc23b6"
   },
   "outputs": [],
   "source": [
    "input_shape=(Features.shape[1],)\n",
    "model=Sequential([\n",
    "    layers.Dense(units=400,activation=relu, input_shape=input_shape),\n",
    "    layers.Dense(units=300,activation=relu),\n",
    "    layers.Dense(units=200,activation=relu),\n",
    "    layers.Dense(units=100,activation=relu),\n",
    "    layers.Dense(units=50,activation=relu),\n",
    "    layers.Dense(units=25,activation=relu),\n",
    "    layers.Dense(units=10,activation=relu),\n",
    "    layers.Dense(units=1,activation=sigmoid)\n",
    "])"
   ]
  },
  {
   "cell_type": "code",
   "execution_count": 82,
   "id": "7cfeb5bd",
   "metadata": {
    "id": "7cfeb5bd"
   },
   "outputs": [],
   "source": [
    "model.compile(loss=BinaryCrossentropy(), optimizer=Adam(), metrics=Accuracy())"
   ]
  },
  {
   "cell_type": "markdown",
   "id": "4f3ace8b",
   "metadata": {},
   "source": [
    "# Model Training"
   ]
  },
  {
   "cell_type": "code",
   "execution_count": 83,
   "id": "2afc18b7",
   "metadata": {
    "colab": {
     "base_uri": "https://localhost:8080/"
    },
    "id": "2afc18b7",
    "outputId": "4ffd63f1-0197-4650-e4b6-829b0ea7abe7"
   },
   "outputs": [
    {
     "name": "stdout",
     "output_type": "stream",
     "text": [
      "Epoch 1/100\n",
      "1566/1566 [==============================] - 25s 15ms/step - loss: 0.2693 - accuracy: 0.0000e+00\n",
      "Epoch 2/100\n",
      "1566/1566 [==============================] - 25s 16ms/step - loss: 0.1772 - accuracy: 1.9956e-05\n",
      "Epoch 3/100\n",
      "1566/1566 [==============================] - 23s 15ms/step - loss: 0.1525 - accuracy: 3.5922e-04\n",
      "Epoch 4/100\n",
      "1566/1566 [==============================] - 23s 15ms/step - loss: 0.1395 - accuracy: 7.9826e-04\n",
      "Epoch 5/100\n",
      "1566/1566 [==============================] - 23s 14ms/step - loss: 0.1306 - accuracy: 0.0014\n",
      "Epoch 6/100\n",
      "1566/1566 [==============================] - 22s 14ms/step - loss: 0.1212 - accuracy: 0.0016\n",
      "Epoch 7/100\n",
      "1566/1566 [==============================] - 24s 15ms/step - loss: 0.1147 - accuracy: 0.0022\n",
      "Epoch 8/100\n",
      "1566/1566 [==============================] - 24s 15ms/step - loss: 0.1095 - accuracy: 0.0054\n",
      "Epoch 9/100\n",
      "1566/1566 [==============================] - 22s 14ms/step - loss: 0.1040 - accuracy: 0.0032\n",
      "Epoch 10/100\n",
      "1566/1566 [==============================] - 25s 16ms/step - loss: 0.1000 - accuracy: 0.0129\n",
      "Epoch 11/100\n",
      "1566/1566 [==============================] - 22s 14ms/step - loss: 0.0954 - accuracy: 0.0045\n",
      "Epoch 12/100\n",
      "1566/1566 [==============================] - 25s 16ms/step - loss: 0.0941 - accuracy: 0.0072\n",
      "Epoch 13/100\n",
      "1566/1566 [==============================] - 24s 15ms/step - loss: 0.0892 - accuracy: 0.0090\n",
      "Epoch 14/100\n",
      "1566/1566 [==============================] - 23s 15ms/step - loss: 0.0862 - accuracy: 0.0148\n",
      "Epoch 15/100\n",
      "1566/1566 [==============================] - 24s 16ms/step - loss: 0.0862 - accuracy: 0.0195\n",
      "Epoch 16/100\n",
      "1566/1566 [==============================] - 23s 15ms/step - loss: 0.0830 - accuracy: 0.0224\n",
      "Epoch 17/100\n",
      "1566/1566 [==============================] - 25s 16ms/step - loss: 0.0810 - accuracy: 0.0247\n",
      "Epoch 18/100\n",
      "1566/1566 [==============================] - 24s 15ms/step - loss: 0.0771 - accuracy: 0.0339\n",
      "Epoch 19/100\n",
      "1566/1566 [==============================] - 23s 15ms/step - loss: 0.0749 - accuracy: 0.0694\n",
      "Epoch 20/100\n",
      "1566/1566 [==============================] - 24s 15ms/step - loss: 0.0757 - accuracy: 0.1338\n",
      "Epoch 21/100\n",
      "1566/1566 [==============================] - 22s 14ms/step - loss: 0.0728 - accuracy: 0.1359\n",
      "Epoch 22/100\n",
      "1566/1566 [==============================] - 26s 16ms/step - loss: 0.0714 - accuracy: 0.1565\n",
      "Epoch 23/100\n",
      "1566/1566 [==============================] - 22s 14ms/step - loss: 0.0710 - accuracy: 0.1984\n",
      "Epoch 24/100\n",
      "1566/1566 [==============================] - 24s 15ms/step - loss: 0.0678 - accuracy: 0.2195\n",
      "Epoch 25/100\n",
      "1566/1566 [==============================] - 22s 14ms/step - loss: 0.0646 - accuracy: 0.2232\n",
      "Epoch 26/100\n",
      "1566/1566 [==============================] - 24s 16ms/step - loss: 0.0640 - accuracy: 0.1686\n",
      "Epoch 27/100\n",
      "1566/1566 [==============================] - 23s 15ms/step - loss: 0.0654 - accuracy: 0.2376\n",
      "Epoch 28/100\n",
      "1566/1566 [==============================] - 23s 15ms/step - loss: 0.0616 - accuracy: 0.2920\n",
      "Epoch 29/100\n",
      "1566/1566 [==============================] - 24s 15ms/step - loss: 0.0603 - accuracy: 0.3087\n",
      "Epoch 30/100\n",
      "1566/1566 [==============================] - 22s 14ms/step - loss: 0.0579 - accuracy: 0.3283\n",
      "Epoch 31/100\n",
      "1566/1566 [==============================] - 24s 15ms/step - loss: 0.0589 - accuracy: 0.3579\n",
      "Epoch 32/100\n",
      "1566/1566 [==============================] - 22s 14ms/step - loss: 0.0588 - accuracy: 0.2578\n",
      "Epoch 33/100\n",
      "1566/1566 [==============================] - 23s 15ms/step - loss: 0.0570 - accuracy: 0.2733\n",
      "Epoch 34/100\n",
      "1566/1566 [==============================] - 24s 15ms/step - loss: 0.0542 - accuracy: 0.3338\n",
      "Epoch 35/100\n",
      "1566/1566 [==============================] - 22s 14ms/step - loss: 0.0559 - accuracy: 0.3604\n",
      "Epoch 36/100\n",
      "1566/1566 [==============================] - 27s 17ms/step - loss: 0.0563 - accuracy: 0.3881\n",
      "Epoch 37/100\n",
      "1566/1566 [==============================] - 30s 19ms/step - loss: 0.0525 - accuracy: 0.3881\n",
      "Epoch 38/100\n",
      "1566/1566 [==============================] - 22s 14ms/step - loss: 0.0515 - accuracy: 0.3570\n",
      "Epoch 39/100\n",
      "1566/1566 [==============================] - 23s 15ms/step - loss: 0.0532 - accuracy: 0.3326\n",
      "Epoch 40/100\n",
      "1566/1566 [==============================] - 21s 14ms/step - loss: 0.0518 - accuracy: 0.3767\n",
      "Epoch 41/100\n",
      "1566/1566 [==============================] - 23s 15ms/step - loss: 0.0519 - accuracy: 0.3758\n",
      "Epoch 42/100\n",
      "1566/1566 [==============================] - 21s 14ms/step - loss: 0.0488 - accuracy: 0.4404\n",
      "Epoch 43/100\n",
      "1566/1566 [==============================] - 23s 15ms/step - loss: 0.0505 - accuracy: 0.4292\n",
      "Epoch 44/100\n",
      "1566/1566 [==============================] - 21s 14ms/step - loss: 0.0537 - accuracy: 0.4779\n",
      "Epoch 45/100\n",
      "1566/1566 [==============================] - 23s 15ms/step - loss: 0.0467 - accuracy: 0.4951\n",
      "Epoch 46/100\n",
      "1566/1566 [==============================] - 23s 15ms/step - loss: 0.0480 - accuracy: 0.4883\n",
      "Epoch 47/100\n",
      "1566/1566 [==============================] - 23s 15ms/step - loss: 0.0454 - accuracy: 0.5258\n",
      "Epoch 48/100\n",
      "1566/1566 [==============================] - 21s 13ms/step - loss: 0.0470 - accuracy: 0.4940\n",
      "Epoch 49/100\n",
      "1566/1566 [==============================] - 23s 15ms/step - loss: 0.0447 - accuracy: 0.4908\n",
      "Epoch 50/100\n",
      "1566/1566 [==============================] - 21s 14ms/step - loss: 0.0444 - accuracy: 0.4982\n",
      "Epoch 51/100\n",
      "1566/1566 [==============================] - 23s 15ms/step - loss: 0.0485 - accuracy: 0.4233\n",
      "Epoch 52/100\n",
      "1566/1566 [==============================] - 21s 14ms/step - loss: 0.0409 - accuracy: 0.4252\n",
      "Epoch 53/100\n",
      "1566/1566 [==============================] - 24s 15ms/step - loss: 0.0419 - accuracy: 0.3948\n",
      "Epoch 54/100\n",
      "1566/1566 [==============================] - 21s 14ms/step - loss: 0.0402 - accuracy: 0.4047\n",
      "Epoch 55/100\n",
      "1566/1566 [==============================] - 23s 15ms/step - loss: 0.0445 - accuracy: 0.4154\n",
      "Epoch 56/100\n",
      "1566/1566 [==============================] - 21s 14ms/step - loss: 0.0416 - accuracy: 0.4881\n",
      "Epoch 57/100\n",
      "1566/1566 [==============================] - 23s 15ms/step - loss: 0.0399 - accuracy: 0.4735\n",
      "Epoch 58/100\n",
      "1566/1566 [==============================] - 23s 15ms/step - loss: 0.0419 - accuracy: 0.4632\n",
      "Epoch 59/100\n",
      "1566/1566 [==============================] - 23s 15ms/step - loss: 0.0391 - accuracy: 0.4474\n",
      "Epoch 60/100\n",
      "1566/1566 [==============================] - 23s 15ms/step - loss: 0.0395 - accuracy: 0.4828\n",
      "Epoch 61/100\n",
      "1566/1566 [==============================] - 23s 14ms/step - loss: 0.0374 - accuracy: 0.4521\n",
      "Epoch 62/100\n",
      "1566/1566 [==============================] - 24s 15ms/step - loss: 0.0378 - accuracy: 0.4279\n",
      "Epoch 63/100\n",
      "1566/1566 [==============================] - 22s 14ms/step - loss: 0.0354 - accuracy: 0.4739\n",
      "Epoch 64/100\n",
      "1566/1566 [==============================] - 24s 15ms/step - loss: 0.0390 - accuracy: 0.4586\n",
      "Epoch 65/100\n",
      "1566/1566 [==============================] - 22s 14ms/step - loss: 0.0376 - accuracy: 0.4706\n",
      "Epoch 66/100\n",
      "1566/1566 [==============================] - 24s 15ms/step - loss: 0.0373 - accuracy: 0.4934\n",
      "Epoch 67/100\n",
      "1566/1566 [==============================] - 22s 14ms/step - loss: 0.0334 - accuracy: 0.5907\n",
      "Epoch 68/100\n",
      "1566/1566 [==============================] - 24s 15ms/step - loss: 0.0399 - accuracy: 0.5213\n",
      "Epoch 69/100\n",
      "1566/1566 [==============================] - 22s 14ms/step - loss: 0.0342 - accuracy: 0.5039\n",
      "Epoch 70/100\n",
      "1566/1566 [==============================] - 24s 16ms/step - loss: 0.0337 - accuracy: 0.5473\n",
      "Epoch 71/100\n",
      "1566/1566 [==============================] - 23s 15ms/step - loss: 0.0366 - accuracy: 0.5352\n",
      "Epoch 72/100\n",
      "1566/1566 [==============================] - 22s 14ms/step - loss: 0.0342 - accuracy: 0.5801\n",
      "Epoch 73/100\n",
      "1566/1566 [==============================] - 23s 15ms/step - loss: 0.0314 - accuracy: 0.6155\n",
      "Epoch 74/100\n",
      "1566/1566 [==============================] - 22s 14ms/step - loss: 0.0329 - accuracy: 0.5910\n",
      "Epoch 75/100\n",
      "1566/1566 [==============================] - 23s 14ms/step - loss: 0.0305 - accuracy: 0.6099\n",
      "Epoch 76/100\n",
      "1566/1566 [==============================] - 21s 14ms/step - loss: 0.0308 - accuracy: 0.5893\n",
      "Epoch 77/100\n",
      "1566/1566 [==============================] - 22s 14ms/step - loss: 0.0379 - accuracy: 0.5759\n",
      "Epoch 78/100\n",
      "1566/1566 [==============================] - 22s 14ms/step - loss: 0.0287 - accuracy: 0.6094\n",
      "Epoch 79/100\n",
      "1566/1566 [==============================] - 22s 14ms/step - loss: 0.0351 - accuracy: 0.5716\n",
      "Epoch 80/100\n",
      "1566/1566 [==============================] - 22s 14ms/step - loss: 0.0324 - accuracy: 0.5740\n",
      "Epoch 81/100\n",
      "1566/1566 [==============================] - 22s 14ms/step - loss: 0.0363 - accuracy: 0.5347\n",
      "Epoch 82/100\n",
      "1566/1566 [==============================] - 22s 14ms/step - loss: 0.0270 - accuracy: 0.5375\n",
      "Epoch 83/100\n",
      "1566/1566 [==============================] - 23s 15ms/step - loss: 0.0379 - accuracy: 0.5503\n",
      "Epoch 84/100\n",
      "1566/1566 [==============================] - 22s 14ms/step - loss: 0.0403 - accuracy: 0.4771\n",
      "Epoch 85/100\n",
      "1566/1566 [==============================] - 22s 14ms/step - loss: 0.0388 - accuracy: 0.5208\n",
      "Epoch 86/100\n",
      "1566/1566 [==============================] - 23s 15ms/step - loss: 0.0332 - accuracy: 0.5236\n",
      "Epoch 87/100\n",
      "1566/1566 [==============================] - 22s 14ms/step - loss: 0.0307 - accuracy: 0.5303\n",
      "Epoch 88/100\n",
      "1566/1566 [==============================] - 23s 14ms/step - loss: 0.0282 - accuracy: 0.5764\n",
      "Epoch 89/100\n",
      "1566/1566 [==============================] - 22s 14ms/step - loss: 0.0314 - accuracy: 0.5454\n",
      "Epoch 90/100\n",
      "1566/1566 [==============================] - 22s 14ms/step - loss: 0.0355 - accuracy: 0.4521\n",
      "Epoch 91/100\n",
      "1566/1566 [==============================] - 22s 14ms/step - loss: 0.0252 - accuracy: 0.5628\n",
      "Epoch 92/100\n",
      "1566/1566 [==============================] - 23s 15ms/step - loss: 0.0323 - accuracy: 0.5173\n",
      "Epoch 93/100\n",
      "1566/1566 [==============================] - 22s 14ms/step - loss: 0.0398 - accuracy: 0.5089\n",
      "Epoch 94/100\n",
      "1566/1566 [==============================] - 23s 14ms/step - loss: 0.0298 - accuracy: 0.4436\n",
      "Epoch 95/100\n",
      "1566/1566 [==============================] - 24s 15ms/step - loss: 0.0240 - accuracy: 0.5376\n",
      "Epoch 96/100\n",
      "1566/1566 [==============================] - 23s 14ms/step - loss: 0.0270 - accuracy: 0.5528\n",
      "Epoch 97/100\n",
      "1566/1566 [==============================] - 22s 14ms/step - loss: 0.0260 - accuracy: 0.5480\n",
      "Epoch 98/100\n",
      "1566/1566 [==============================] - 23s 14ms/step - loss: 0.0247 - accuracy: 0.5931\n",
      "Epoch 99/100\n",
      "1566/1566 [==============================] - 22s 14ms/step - loss: 0.0423 - accuracy: 0.5033\n",
      "Epoch 100/100\n",
      "1566/1566 [==============================] - 23s 15ms/step - loss: 0.0314 - accuracy: 0.4543\n"
     ]
    },
    {
     "data": {
      "text/plain": [
       "<keras.src.callbacks.History at 0x7f4d7f2f46d0>"
      ]
     },
     "execution_count": 83,
     "metadata": {},
     "output_type": "execute_result"
    }
   ],
   "source": [
    "model.fit(X_train,Y_train,epochs=100)"
   ]
  },
  {
   "cell_type": "markdown",
   "id": "973ca612",
   "metadata": {},
   "source": [
    "# Model Testing"
   ]
  },
  {
   "cell_type": "code",
   "execution_count": 84,
   "id": "5ebe3dce",
   "metadata": {
    "colab": {
     "base_uri": "https://localhost:8080/"
    },
    "id": "5ebe3dce",
    "outputId": "ce7c867e-5618-4afa-c443-a00149b70b82"
   },
   "outputs": [
    {
     "name": "stdout",
     "output_type": "stream",
     "text": [
      "672/672 [==============================] - 3s 5ms/step\n"
     ]
    }
   ],
   "source": [
    "Y_predicted=model.predict(X_test)\n",
    "for a in range(len(Y_predicted)):\n",
    "    if Y_predicted[a]>0.5:\n",
    "        Y_predicted[a]=1\n",
    "    else:\n",
    "        Y_predicted[a]=0"
   ]
  },
  {
   "cell_type": "code",
   "execution_count": 123,
   "id": "lnEJHgfrgCcQ",
   "metadata": {
    "colab": {
     "base_uri": "https://localhost:8080/"
    },
    "id": "lnEJHgfrgCcQ",
    "outputId": "1731eb9f-02be-43d3-fcdf-57017b613433"
   },
   "outputs": [
    {
     "data": {
      "text/plain": [
       "(21476, 1536)"
      ]
     },
     "execution_count": 123,
     "metadata": {},
     "output_type": "execute_result"
    }
   ],
   "source": [
    "X_test.shape"
   ]
  },
  {
   "cell_type": "code",
   "execution_count": 85,
   "id": "5984b12f",
   "metadata": {
    "colab": {
     "base_uri": "https://localhost:8080/"
    },
    "id": "5984b12f",
    "outputId": "5999a5c4-751e-4888-aa2c-f9cd10c6751e"
   },
   "outputs": [
    {
     "name": "stdout",
     "output_type": "stream",
     "text": [
      "Accuracy Score : 96.6008567703483\n",
      "Precision Score :97.65129273605456 \n",
      "Recall Score :95.53414249976836 \n"
     ]
    }
   ],
   "source": [
    "from sklearn.metrics import recall_score,precision_score,accuracy_score,f1_score\n",
    "print(f\"Accuracy Score : {accuracy_score(Y_test,Y_predicted)*100}\")\n",
    "print(f\"Precision Score :{precision_score(Y_test,Y_predicted)*100} \")\n",
    "print(f\"Recall Score :{recall_score(Y_test,Y_predicted)*100} \")"
   ]
  },
  {
   "cell_type": "code",
   "execution_count": 91,
   "id": "jlTxja75vdWQ",
   "metadata": {
    "colab": {
     "base_uri": "https://localhost:8080/",
     "height": 619
    },
    "id": "jlTxja75vdWQ",
    "outputId": "e0f33d79-9d1d-4102-b495-3284ed1ac9d7"
   },
   "outputs": [
    {
     "name": "stderr",
     "output_type": "stream",
     "text": [
      "/usr/local/lib/python3.10/dist-packages/sklearn/metrics/_classification.py:1344: UndefinedMetricWarning: Precision is ill-defined and being set to 0.0 due to no predicted samples. Use `zero_division` parameter to control this behavior.\n",
      "  _warn_prf(average, modifier, msg_start, len(result))\n"
     ]
    },
    {
     "data": {
      "image/png": "[encoded data removed]",
      "text/plain": [
       "<Figure size 1000x600 with 1 Axes>"
      ]
     },
     "metadata": {},
     "output_type": "display_data"
    }
   ],
   "source": [
    "thresholds = np.arange(0, 1.1, 0.1)\n",
    "\n",
    "# Initialize lists to store scores\n",
    "f1_scores = []\n",
    "precision_scores = []\n",
    "recall_scores = []\n",
    "accuracy_scores = []\n",
    "\n",
    "# Compute scores for each threshold\n",
    "for threshold in thresholds:\n",
    "    Y_predicted_thresholded = (Y_predicted > threshold).astype(int)\n",
    "    f1_scores.append(f1_score(Y_test, Y_predicted_thresholded))\n",
    "    precision_scores.append(precision_score(Y_test, Y_predicted_thresholded))\n",
    "    recall_scores.append(recall_score(Y_test, Y_predicted_thresholded))\n",
    "    accuracy_scores.append(accuracy_score(Y_test, Y_predicted_thresholded))\n",
    "\n",
    "# Plot the scores\n",
    "plt.figure(figsize=(10, 6))\n",
    "plt.plot(thresholds, f1_scores, label='F1-score')\n",
    "plt.plot(thresholds, precision_scores, label='Precision')\n",
    "plt.plot(thresholds, recall_scores, label='Recall')\n",
    "plt.plot(thresholds, accuracy_scores, label='Accuracy')\n",
    "plt.xlabel('Threshold')\n",
    "plt.ylabel('Score')\n",
    "plt.title('Performance Metrics vs. Threshold')\n",
    "plt.legend()\n",
    "plt.grid(True)\n",
    "plt.show()\n"
   ]
  },
  {
   "cell_type": "code",
   "execution_count": 92,
   "id": "r1UOYsIOviXe",
   "metadata": {
    "colab": {
     "base_uri": "https://localhost:8080/",
     "height": 472
    },
    "id": "r1UOYsIOviXe",
    "outputId": "32da1d08-3ddf-412c-984d-8784ef2c740c"
   },
   "outputs": [
    {
     "data": {
      "image/png": "[encoded data removed]",
      "text/plain": [
       "<Figure size 640x480 with 1 Axes>"
      ]
     },
     "metadata": {},
     "output_type": "display_data"
    }
   ],
   "source": [
    "import numpy as np\n",
    "import matplotlib.pyplot as plt\n",
    "from sklearn.metrics import roc_curve, precision_recall_curve, confusion_matrix, roc_auc_score\n",
    "from sklearn.calibration import calibration_curve\n",
    "import seaborn as sns\n",
    "\n",
    "# Sample data (replace with your actual data)\n",
    "y_true = Y_test\n",
    "y_scores = Y_predicted\n",
    "\n",
    "# ROC Curve\n",
    "fpr, tpr, thresholds = roc_curve(y_true, y_scores)\n",
    "plt.figure()\n",
    "plt.plot(fpr, tpr, color='darkorange', lw=2, label='ROC curve (AUC = %0.2f)' % roc_auc_score(y_true, y_scores))\n",
    "plt.plot([0, 1], [0, 1], color='navy', lw=2, linestyle='--')\n",
    "plt.xlabel('False Positive Rate')\n",
    "plt.ylabel('True Positive Rate')\n",
    "plt.title('Receiver Operating Characteristic (ROC) Curve')\n",
    "plt.legend(loc=\"lower right\")\n",
    "plt.show()\n"
   ]
  },
  {
   "cell_type": "code",
   "execution_count": 87,
   "id": "3a0b5253",
   "metadata": {
    "colab": {
     "base_uri": "https://localhost:8080/",
     "height": 564
    },
    "id": "3a0b5253",
    "outputId": "84684fd0-e15a-4751-d7fd-759745571d27"
   },
   "outputs": [
    {
     "data": {
      "image/png": "[encoded data removed]",
      "text/plain": [
       "<Figure size 800x600 with 1 Axes>"
      ]
     },
     "metadata": {},
     "output_type": "display_data"
    }
   ],
   "source": [
    "from sklearn.metrics import confusion_matrix\n",
    "import matplotlib.pyplot as plt\n",
    "import seaborn as sns\n",
    "cm = confusion_matrix(Y_test, Y_predicted)\n",
    "\n",
    "plt.figure(figsize=(8, 6))\n",
    "sns.heatmap(cm, annot=True, fmt='d', cmap='Blues', cbar=False)\n",
    "plt.xlabel('Predicted labels')\n",
    "plt.ylabel('True labels')\n",
    "plt.title('Confusion Matrix')\n",
    "plt.show()"
   ]
  },
  {
   "cell_type": "code",
   "execution_count": 88,
   "id": "1f793bed",
   "metadata": {
    "id": "1f793bed"
   },
   "outputs": [],
   "source": [
    "import pickle\n",
    "with open(\"BERT_Trained_model.pkl\", \"wb\") as f:\n",
    "    pickle.dump(model, f)"
   ]
  },
  {
   "cell_type": "code",
   "execution_count": 4,
   "id": "2e686524",
   "metadata": {
    "id": "2e686524"
   },
   "outputs": [],
   "source": [
    "import pickle\n",
    "with open(\"BERT_Trained_model.pkl\", \"rb\") as f:\n",
    "    model = pickle.load(f)"
   ]
  }
 ],
 "metadata": {
  "colab": {
   "provenance": []
  },
  "kernelspec": {
   "display_name": "Python 3 (ipykernel)",
   "language": "python",
   "name": "python3"
  },
  "language_info": {
   "codemirror_mode": {
    "name": "ipython",
    "version": 3
   },
   "file_extension": ".py",
   "mimetype": "text/x-python",
   "name": "python",
   "nbconvert_exporter": "python",
   "pygments_lexer": "ipython3",
   "version": "3.11.5"
  }
 },
 "nbformat": 4,
 "nbformat_minor": 5
}
