{
 "cells": [
  {
   "cell_type": "code",
   "execution_count": 10,
   "id": "7676371f",
   "metadata": {},
   "outputs": [],
   "source": [
    "import tensorflow as tf"
   ]
  },
  {
   "cell_type": "code",
   "execution_count": 6,
   "id": "295e60cc",
   "metadata": {},
   "outputs": [],
   "source": [
    "import pickle\n",
    "\n",
    "with open(\"Resume_model.pkl\", \"rb\") as f:\n",
    "    model = pickle.load(f)\n",
    "\n",
    "with open(\"word_to_index.pkl\", \"rb\") as f:    \n",
    "    word_to_index = pickle.load(f)"
   ]
  },
  {
   "cell_type": "code",
   "execution_count": 2,
   "id": "d20e27ed",
   "metadata": {},
   "outputs": [],
   "source": [
    "import spacy\n",
    "Model=spacy.load('en_core_web_sm')"
   ]
  },
  {
   "cell_type": "code",
   "execution_count": 8,
   "id": "d9f2c9d4",
   "metadata": {},
   "outputs": [],
   "source": [
    "def preprocess(text2):\n",
    "    text2=text2.replace('\\t','')\n",
    "    text2=text2.replace('\\n','')\n",
    "\n",
    "    import re\n",
    "\n",
    "    patterns = ['\\d{11}','\\d{4}-\\d{7}', '[a-z0-9]*@gmail.com','linkedin.com[\\/ a-z-0-9A-Z]*','Resume','resume','Resume Headline','github.com[\\/ a-z-0-9:.A-Z]*','Pakistan','Lahore','india','India','INDIA']\n",
    "    combined_pattern = '|'.join(patterns)\n",
    "    pattern=re.compile(combined_pattern)\n",
    "\n",
    "    text2 = pattern.sub('',text2)\n",
    "\n",
    "    doc=Model(text2)\n",
    "\n",
    "    tokens_list=[]\n",
    "    para=''\n",
    "    for token in doc:\n",
    "        if(not(token.is_punct)):\n",
    "            tokens_list.append(token.lemma_)\n",
    "        para=' '.join(tokens_list)\n",
    "    text2=para\n",
    "    return text2"
   ]
  },
  {
   "cell_type": "code",
   "execution_count": 11,
   "id": "895d25f2",
   "metadata": {},
   "outputs": [
    {
     "name": "stdout",
     "output_type": "stream",
     "text": [
      "Similarity between Resume and Requirements are 62 %\n"
     ]
    }
   ],
   "source": [
    "text1 = \"HeadlineFlutter Developer | Cross platform App DeveloperSkill Set C++ JAVA JAVASCRIPT MySQL HTML CSS React.js Flutter Dart Database Management System DBMS Algorithms Data Structures Object orient Programming OOP prefer Job Type full Time Remote Employement Details Flutter Developer Tech Alchemy Ltd Jul 2021 Present full time 1 prototyped several new feature for an ongoing project.2 decrease rework by 22 for the implement features.3 contribute consistently to improve code quality among all the flutter project of the company.1 prototype several new feature for an ongoing project 2 decrease rework by 22 for the implement feature 3 contribute consistently to improve code quality among all the flutter project of the company skill Dart fluttersalary 29,000 Monthly Notice Period 2 month Graduation in Information Technology BTech Bachelor of Technology from Maharaja Agrasen Institute of Technology Delhi Passout Year 2021 course type full Time Percentage Grade 7.8 Scale 10 Grading System Profile Summary Prolific flutter developer with a passion for metric and beat former good yet passionate about build world class cross platform application with a zeal to learn and adapt new technology strong engineering professional as Bachelor of Technology(B.Tech major in Information Technology from Maharaja Agrasen Institute of Technology Delhi\"\n",
    "text2 = \"\"\"\n",
    "Company Description\n",
    "Vertex Infinity is an innovative software development company that provides web and mobile application solutions for clients ranging from startups to large enterprises globally. Specializing in scratch-based development for large-scale systems, as well as AI services and expertise in large language models, Vertex Infinity offers bespoke solutions that ensure scalability and resilience in today's fast-paced digital landscape.\n",
    "Role Description\n",
    "This is a full-time hybrid role for a Frontend Developer located in Lahore, with flexibility for some remote work. The Frontend Developer will be responsible for designing and developing dynamic user interfaces and intuitive user experiences, as well as ensuring responsive web design, software development, and web development.\n",
    "Qualifications\n",
    "    Expertise in Flutter Dart Database Management System\n",
    "    Expertise in C++ JAVA JAVASCRIPT MySQL HTML CSS React.js\n",
    "    Expertise in Front-End Development and Responsive Web Design\n",
    "    Experience with UI/UX design and implementation\n",
    "    Experience with HTML, CSS, JavaScript, and related frameworks and libraries such as React, Angular, Vue, etc.\n",
    "    Knowledge of Back-End Web Development is a plus\n",
    "    Experience with Git and other version control systems\n",
    "\"\"\"\n",
    "text1=preprocess(text1)\n",
    "text2=preprocess(text2)\n",
    "\n",
    "def text_to_sequence(text, word_to_index):\n",
    "    tokens=text.split()\n",
    "    sequence=[word_to_index[token] for token in tokens if token in word_to_index]\n",
    "    return sequence\n",
    "\n",
    "sequence1=text_to_sequence(text1, word_to_index)\n",
    "sequence2=text_to_sequence(text2, word_to_index)\n",
    "\n",
    "from tensorflow.keras.preprocessing.sequence import pad_sequences\n",
    "\n",
    "max_sequence_length=4\n",
    "sequence1_padded=pad_sequences([sequence1], maxlen=max_sequence_length, padding='post', truncating='post')\n",
    "sequence2_padded=pad_sequences([sequence2], maxlen=max_sequence_length, padding='post', truncating='post')\n",
    "\n",
    "\n",
    "embedding_layer=model.layers[0]\n",
    "embedding_model=tf.keras.models.Model(inputs=model.input, outputs=embedding_layer.output)\n",
    "\n",
    "embedding1=embedding_model(sequence1_padded)\n",
    "embedding2=embedding_model(sequence2_padded)\n",
    "\n",
    "embedding1_flat=tf.reshape(embedding1, embedding1.shape[1:])\n",
    "embedding2_flat=tf.reshape(embedding2, embedding2.shape[1:])\n",
    "\n",
    "from sklearn.metrics.pairwise import cosine_similarity\n",
    "cosine_sim=cosine_similarity(embedding1_flat, embedding2_flat)[0,0]\n",
    "similarity_scaled=((cosine_sim+1)/2)*100\n",
    "print(\"Similarity between Resume and Requirements are\", int(similarity_scaled),'%')"
   ]
  },
  {
   "cell_type": "code",
   "execution_count": null,
   "id": "ec0cb31e",
   "metadata": {},
   "outputs": [],
   "source": []
  }
 ],
 "metadata": {
  "kernelspec": {
   "display_name": "Python 3 (ipykernel)",
   "language": "python",
   "name": "python3"
  },
  "language_info": {
   "codemirror_mode": {
    "name": "ipython",
    "version": 3
   },
   "file_extension": ".py",
   "mimetype": "text/x-python",
   "name": "python",
   "nbconvert_exporter": "python",
   "pygments_lexer": "ipython3",
   "version": "3.11.5"
  }
 },
 "nbformat": 4,
 "nbformat_minor": 5
}
